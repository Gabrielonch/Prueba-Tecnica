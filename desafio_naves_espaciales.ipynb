{
 "cells": [
  {
   "cell_type": "markdown",
   "metadata": {},
   "source": [
    "<font color = 'red'>\n",
    "\n",
    "<h1> Desafio Naves Espaciales </h1> \n",
    "    \n"
   ]
  },
  {
   "cell_type": "markdown",
   "metadata": {},
   "source": [
    "<a id = \"1\"></a>\n",
    "## Introducción\n"
   ]
  },
  {
   "cell_type": "markdown",
   "metadata": {},
   "source": [
    "\n",
    "<p style=\"text-align: justify;\"> Una de las naves de uno de tus aliados está en peligro mortal en una zona roja de OASIS. Una bomba ha sido implantada en los motores de la nave, tu aliado podría desbloquearla con tu ayuda para resolver estos problemas. La bomba sólo se desactiva con tu solución a este desafío. </p>"
   ]
  },
  {
   "cell_type": "markdown",
   "metadata": {},
   "source": [
    "<a id = \"2\"></a>\n",
    "## 1. \n",
    "+ If we list all the natural numbers below 10 that are multiples of 3 or 5, we get 3, 5, 6 and 9. The sum of these multiples is 23.\n",
    "<br>\n",
    "\n",
    "<font color = 'red'>\n",
    "Find the sum of all the multiples of 3 or 5 below 1000."
   ]
  },
  {
   "cell_type": "code",
   "execution_count": 8,
   "metadata": {},
   "outputs": [
    {
     "name": "stdout",
     "output_type": "stream",
     "text": [
      "The sum of all the multiples of 3 or 5 below 1000 is = 233168\n"
     ]
    }
   ],
   "source": [
    "suma = 0 # Se crea la variable donde se guardaran los números que sean múltiplos de 3 o 5.\n",
    "for it in range(1000): # Iterador que va de 0 a 999 \n",
    "    if (it % 3 == 0 or it % 5 == 0):  # Condición que sólo admite los valores que sean múltiplos de 3 o 5\n",
    "        suma = suma + it  # Se agregan los valores que sean múltiplos a la variable suma\n",
    "\n",
    "\n",
    "print('The sum of all the multiples of 3 or 5 below 1000 is =', suma) "
   ]
  },
  {
   "cell_type": "markdown",
   "metadata": {},
   "source": [
    "---\n",
    "<a id = \"6\"></a>\n",
    "## 2. \n",
    "\n",
    "You are given the following information, but you may prefer to do some research \n",
    "for yourself.\n",
    "\n",
    "+ 1 Jan 1900 was a Monday.\n",
    "+ Thirty days has September,\n",
    "+ April, June and November.\n",
    "+ All the rest have thirty-one,\n",
    "+ Saving February alone,\n",
    "+ Which has twenty-eight, rain or shine.\n",
    "+ And on leap years, twenty-nine.\n",
    "+ A leap year occurs on any year evenly divisible by 4, but not on a century unless it is divisible by 400.\n",
    "\n",
    "<br>\n",
    "<font color = 'red'>   \n",
    "How many Sundays fell on the first of the month during the twentieth century (1 Jan 1901 to 31 Dec 2000)"
   ]
  },
  {
   "cell_type": "code",
   "execution_count": 16,
   "metadata": {},
   "outputs": [],
   "source": [
    "import pandas as pd #Para este ejercicio se ocupara la librería de Pandas y sus funciones en cuanto a fechas y tiempo.\n",
    "\n",
    "inicio = \"1901-1-1\" # Fecha de inicio del siglo 20\n",
    "fin    = \"2000-12-31\" # Fecha de fin de siglo 20\n",
    "\n",
    "\n",
    "lista_fechas = pd.Series(pd.date_range(start = inicio, end = fin , freq=\"d\")) # pd.Series da formato de una serie de datos \n",
    "# pd.data_range crea una serie de datos en formato datetime desde una fecha de inicio hasta una fecha final que\n",
    "# debe ser colocada por el usuario. freq=\"d\" hace referencia a que nos interesa saber las fechas que hay desde el \n",
    "# inicio al final día por día. Esta frecuencia puede ser cambiada dependiendo el rango de interes del usuario.\n",
    "\n",
    "#lista_fechas = pd.DataFrame(pd.Series(pd.date_range(start = inicio, end = fin , freq=\"d\")))\n",
    "#lista_fechas.columns = ['date']"
   ]
  },
  {
   "cell_type": "code",
   "execution_count": 17,
   "metadata": {},
   "outputs": [
    {
     "name": "stdout",
     "output_type": "stream",
     "text": [
      "There are 171 Sundays that fell on the first of the month during the twentieth century\n"
     ]
    }
   ],
   "source": [
    "primero = lista_fechas[(lista_fechas.dt.day_name() == \"Sunday\") & (lista_fechas.dt.day == 1)] # En esta línea\n",
    "# de código se obtienen las fechas que coincidan con la condición de que el día sea domingo y corresponda al \n",
    "# primer día del mes. El comando \"dt\" nos permite acceder a el día, mes o año de una variable en formato datetime.\n",
    "\n",
    "print(\"There are\",primero.shape[0], \"Sundays that fell on the first of the month during the twentieth century\")"
   ]
  },
  {
   "cell_type": "code",
   "execution_count": 19,
   "metadata": {},
   "outputs": [
    {
     "name": "stdout",
     "output_type": "stream",
     "text": [
      "There were 25 leap years during the twentieth century\n"
     ]
    }
   ],
   "source": [
    "leap = lista_fechas[(lista_fechas.dt.month == 2) & (lista_fechas.dt.day == 29)]\n",
    "\n",
    "print(\"There were\",leap.shape[0], \"leap years during the twentieth century\")\n"
   ]
  },
  {
   "cell_type": "code",
   "execution_count": null,
   "metadata": {},
   "outputs": [],
   "source": []
  }
 ],
 "metadata": {
  "kernelspec": {
   "display_name": "Python 3",
   "language": "python",
   "name": "python3"
  },
  "language_info": {
   "codemirror_mode": {
    "name": "ipython",
    "version": 3
   },
   "file_extension": ".py",
   "mimetype": "text/x-python",
   "name": "python",
   "nbconvert_exporter": "python",
   "pygments_lexer": "ipython3",
   "version": "3.7.10"
  }
 },
 "nbformat": 4,
 "nbformat_minor": 4
}
