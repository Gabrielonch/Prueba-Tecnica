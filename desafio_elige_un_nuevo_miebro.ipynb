{
 "cells": [
  {
   "cell_type": "markdown",
   "metadata": {},
   "source": [
    "<font color = 'red'>\n",
    "\n",
    "<h1> Desafío Elige un nuevo miembro </h1> "
   ]
  },
  {
   "cell_type": "markdown",
   "metadata": {},
   "source": [
    "---"
   ]
  },
  {
   "cell_type": "markdown",
   "metadata": {},
   "source": [
    "<a id = \"1\"></a>\n",
    "## Introducción"
   ]
  },
  {
   "cell_type": "markdown",
   "metadata": {},
   "source": [
    "<p style=\"text-align: justify;\">¡El equipo “High Five” busca nuevos miembros! La competencia para las vacantes fue feroz entre los mejores 5 jugadores y los datos de tres de sus pruebas han llegado. Tu trabajo ahora será generar un reporte con las gráficas que tú creas necesarias para poder entender mejor los datos (el resto del equipo es algo flojo e insisten en sólo leer un reporte con poco texto y gráficas de colores vibrantes y diseños llamativos). </p>"
   ]
  },
  {
   "cell_type": "markdown",
   "metadata": {},
   "source": [
    "<h2> Prueba 1 </h2> <h4>El score más alto.</h4>\n",
    "<p style=\"text-align: justify;\"> Durante 30 días se registró el tiempo en minutos que tardó cada jugador en llegar a un score \n",
    "determinado. ¿Cómo harías una gráfica para observar su desempeño a lo largo de los 30 días? </p>\n",
    "\n",
    "*ver archivo adjunto tiempos_para_llegar_al_mejor_score.csv*\n",
    "\n"
   ]
  },
  {
   "cell_type": "code",
   "execution_count": 2,
   "metadata": {},
   "outputs": [],
   "source": [
    "import pandas as pd\n",
    "import numpy as np\n",
    "import matplotlib.pyplot as plt\n",
    "import seaborn as sbn\n",
    "\n",
    "sbn.set_style(\"darkgrid\")\n",
    "sbn.set_palette(\"bright\")\n",
    "\n",
    "\n",
    "plt.style.use('ggplot')"
   ]
  },
  {
   "cell_type": "raw",
   "metadata": {},
   "source": []
  },
  {
   "cell_type": "code",
   "execution_count": 2,
   "metadata": {},
   "outputs": [],
   "source": [
    "score = pd.read_csv(\"documentos/tiempos_para_llegar_al_mejor_score.csv\")"
   ]
  },
  {
   "cell_type": "code",
   "execution_count": 3,
   "metadata": {},
   "outputs": [
    {
     "data": {
      "text/plain": [
       "5"
      ]
     },
     "execution_count": 3,
     "metadata": {},
     "output_type": "execute_result"
    }
   ],
   "source": [
    "score[\"Player ID\"].nunique()"
   ]
  },
  {
   "cell_type": "code",
   "execution_count": 4,
   "metadata": {},
   "outputs": [
    {
     "data": {
      "text/html": [
       "<div>\n",
       "<style scoped>\n",
       "    .dataframe tbody tr th:only-of-type {\n",
       "        vertical-align: middle;\n",
       "    }\n",
       "\n",
       "    .dataframe tbody tr th {\n",
       "        vertical-align: top;\n",
       "    }\n",
       "\n",
       "    .dataframe thead th {\n",
       "        text-align: right;\n",
       "    }\n",
       "</style>\n",
       "<table border=\"1\" class=\"dataframe\">\n",
       "  <thead>\n",
       "    <tr style=\"text-align: right;\">\n",
       "      <th></th>\n",
       "      <th>count</th>\n",
       "      <th>mean</th>\n",
       "      <th>std</th>\n",
       "      <th>min</th>\n",
       "      <th>25%</th>\n",
       "      <th>50%</th>\n",
       "      <th>75%</th>\n",
       "      <th>max</th>\n",
       "    </tr>\n",
       "    <tr>\n",
       "      <th>Player ID</th>\n",
       "      <th></th>\n",
       "      <th></th>\n",
       "      <th></th>\n",
       "      <th></th>\n",
       "      <th></th>\n",
       "      <th></th>\n",
       "      <th></th>\n",
       "      <th></th>\n",
       "    </tr>\n",
       "  </thead>\n",
       "  <tbody>\n",
       "    <tr>\n",
       "      <th>Player 1</th>\n",
       "      <td>30.0</td>\n",
       "      <td>4.633333</td>\n",
       "      <td>5.950852</td>\n",
       "      <td>0.0</td>\n",
       "      <td>1.25</td>\n",
       "      <td>2.5</td>\n",
       "      <td>8.0</td>\n",
       "      <td>32.0</td>\n",
       "    </tr>\n",
       "    <tr>\n",
       "      <th>Player 2</th>\n",
       "      <td>30.0</td>\n",
       "      <td>4.900000</td>\n",
       "      <td>4.641269</td>\n",
       "      <td>0.0</td>\n",
       "      <td>2.00</td>\n",
       "      <td>3.0</td>\n",
       "      <td>8.0</td>\n",
       "      <td>24.0</td>\n",
       "    </tr>\n",
       "    <tr>\n",
       "      <th>Player 3</th>\n",
       "      <td>30.0</td>\n",
       "      <td>6.100000</td>\n",
       "      <td>9.458986</td>\n",
       "      <td>1.0</td>\n",
       "      <td>2.00</td>\n",
       "      <td>3.0</td>\n",
       "      <td>4.0</td>\n",
       "      <td>40.0</td>\n",
       "    </tr>\n",
       "    <tr>\n",
       "      <th>Player 4</th>\n",
       "      <td>30.0</td>\n",
       "      <td>5.300000</td>\n",
       "      <td>7.197461</td>\n",
       "      <td>0.0</td>\n",
       "      <td>2.00</td>\n",
       "      <td>3.0</td>\n",
       "      <td>8.0</td>\n",
       "      <td>40.0</td>\n",
       "    </tr>\n",
       "    <tr>\n",
       "      <th>Player 5</th>\n",
       "      <td>30.0</td>\n",
       "      <td>8.900000</td>\n",
       "      <td>15.254960</td>\n",
       "      <td>0.0</td>\n",
       "      <td>2.00</td>\n",
       "      <td>3.5</td>\n",
       "      <td>8.0</td>\n",
       "      <td>64.0</td>\n",
       "    </tr>\n",
       "  </tbody>\n",
       "</table>\n",
       "</div>"
      ],
      "text/plain": [
       "           count      mean        std  min   25%  50%  75%   max\n",
       "Player ID                                                       \n",
       "Player 1    30.0  4.633333   5.950852  0.0  1.25  2.5  8.0  32.0\n",
       "Player 2    30.0  4.900000   4.641269  0.0  2.00  3.0  8.0  24.0\n",
       "Player 3    30.0  6.100000   9.458986  1.0  2.00  3.0  4.0  40.0\n",
       "Player 4    30.0  5.300000   7.197461  0.0  2.00  3.0  8.0  40.0\n",
       "Player 5    30.0  8.900000  15.254960  0.0  2.00  3.5  8.0  64.0"
      ]
     },
     "execution_count": 4,
     "metadata": {},
     "output_type": "execute_result"
    }
   ],
   "source": [
    "score.groupby(\"Player ID\")['Minutes to get that score'].describe()"
   ]
  },
  {
   "cell_type": "code",
   "execution_count": 46,
   "metadata": {},
   "outputs": [
    {
     "data": {
      "text/plain": [
       "5"
      ]
     },
     "execution_count": 46,
     "metadata": {},
     "output_type": "execute_result"
    }
   ],
   "source": [
    "\n",
    "len(a)"
   ]
  },
  {
   "cell_type": "code",
   "execution_count": 5,
   "metadata": {},
   "outputs": [
    {
     "data": {
      "image/png": "[encoded data removed]",
      "text/plain": [
       "<Figure size 1080x432 with 1 Axes>"
      ]
     },
     "metadata": {},
     "output_type": "display_data"
    }
   ],
   "source": [
    "media = score.groupby(\"Player ID\")['Minutes to get that score'].mean()\n",
    "f, ax = plt.subplots(figsize=(15, 6))\n",
    "sbn.barplot(x=\"Player ID\", y=\"Minutes to get that score\", data=score, ci=None)\n",
    "plt.title(\"Tiempo para score\", fontsize=20)\n",
    "\n",
    "plt.ylabel(\"Tiempo en minutos\",fontsize=18)\n",
    "plt.yticks(fontsize=18)\n",
    "plt.xticks(fontsize = 18)\n",
    "\n",
    "ax.xaxis.grid(True)\n",
    "\n",
    "for i in range(len(media)):\n",
    "    plt.annotate('%1.2f' %media[i], xy=((i-0.1),media[i]),fontsize = 16)\n",
    "#plt.annotate('Precio promedio %1.2f' %promedios[1], xy=(promedios[1],1),xytext=(2, 1.3), arrowprops=dict(facecolor='orange', shrink=0.01),fontsize = 16)\n"
   ]
  },
  {
   "cell_type": "code",
   "execution_count": 8,
   "metadata": {},
   "outputs": [
    {
     "data": {
      "image/png": "[encoded data removed]",
      "text/plain": [
       "<Figure size 1080x432 with 1 Axes>"
      ]
     },
     "metadata": {},
     "output_type": "display_data"
    }
   ],
   "source": [
    "\n",
    "f, ax = plt.subplots(figsize=(15, 6))\n",
    "plt.bar(list(media.index),media, 0.5)\n",
    "plt.title(\"Tiempo para score\", fontsize=20)\n",
    "\n",
    "plt.ylabel(\"Tiempo en minutos\",fontsize=18)\n",
    "plt.yticks(fontsize=18)\n",
    "plt.xticks(fontsize = 18)\n",
    "#plt.xlim(-1,20)\n",
    "ax.xaxis.grid(True)\n",
    "for i in range(len(media)):\n",
    "    plt.annotate('%1.2f' %media[i], xy=((i-0.1),media[i]),fontsize = 16)\n"
   ]
  },
  {
   "cell_type": "code",
   "execution_count": 7,
   "metadata": {},
   "outputs": [
    {
     "data": {
      "image/png": "[encoded data removed]",
      "text/plain": [
       "<Figure size 864x360 with 1 Axes>"
      ]
     },
     "metadata": {},
     "output_type": "display_data"
    }
   ],
   "source": [
    "mediana = score.groupby(\"Player ID\")['Minutes to get that score'].median()\n",
    "f, ax = plt.subplots(figsize=(12, 5))\n",
    "plt.title(\"Tiempo para score\", fontsize=20)\n",
    "sbn.boxplot(y=\"Player ID\", x=\"Minutes to get that score\", data=score)\n",
    "#sbn.violinplot(y=\"Player ID\", x=\"Minutes to get that score\", data=score)\n",
    "plt.xlabel(\"Tiempo en minutos\",fontsize=18)\n",
    "plt.yticks(fontsize=18)\n",
    "plt.xticks(fontsize = 18)\n",
    "plt.xlim(-1,20)\n",
    "ax.xaxis.grid(True)\n",
    "\n",
    "for i in range(len(mediana)):\n",
    "    plt.annotate('%1.2f' %mediana[i], xy=(mediana[i],i),fontsize = 16)\n",
    "#promedios=df.groupby('type').avprice.mean()"
   ]
  },
  {
   "cell_type": "code",
   "execution_count": null,
   "metadata": {},
   "outputs": [],
   "source": []
  },
  {
   "cell_type": "markdown",
   "metadata": {},
   "source": [
    "<h2> Prueba 2 </h2> <h4>Tu género de videojuego favorito</h4>\n",
    "<p style=\"text-align: justify;\"> Cada jugador participó en 3 videojuegos de 3 géneros distintos (FPS, ACTION y RPG). En 20 ocasiones para cada videojuego, se calificó la partida. Si la calificación de la partida fue mayor a 10, se considera como exitosa; de otra forma, la partida se considera un fracaso. Para cada videojuego, ¿qué porcentaje de partidas exitosas tuvo cada jugador? </p>\n",
    "\n",
    "*ver archivo adjunto scores_by_game_and_player.csv*"
   ]
  },
  {
   "cell_type": "code",
   "execution_count": 3,
   "metadata": {},
   "outputs": [
    {
     "data": {
      "text/html": [
       "<div>\n",
       "<style scoped>\n",
       "    .dataframe tbody tr th:only-of-type {\n",
       "        vertical-align: middle;\n",
       "    }\n",
       "\n",
       "    .dataframe tbody tr th {\n",
       "        vertical-align: top;\n",
       "    }\n",
       "\n",
       "    .dataframe thead th {\n",
       "        text-align: right;\n",
       "    }\n",
       "</style>\n",
       "<table border=\"1\" class=\"dataframe\">\n",
       "  <thead>\n",
       "    <tr style=\"text-align: right;\">\n",
       "      <th></th>\n",
       "      <th>Match ID</th>\n",
       "      <th>Player ID</th>\n",
       "      <th>Adventure ID</th>\n",
       "      <th>Score</th>\n",
       "    </tr>\n",
       "  </thead>\n",
       "  <tbody>\n",
       "    <tr>\n",
       "      <th>0</th>\n",
       "      <td>1</td>\n",
       "      <td>Player 1</td>\n",
       "      <td>FPS</td>\n",
       "      <td>4</td>\n",
       "    </tr>\n",
       "    <tr>\n",
       "      <th>1</th>\n",
       "      <td>2</td>\n",
       "      <td>Player 2</td>\n",
       "      <td>FPS</td>\n",
       "      <td>0</td>\n",
       "    </tr>\n",
       "    <tr>\n",
       "      <th>2</th>\n",
       "      <td>3</td>\n",
       "      <td>Player 3</td>\n",
       "      <td>FPS</td>\n",
       "      <td>58</td>\n",
       "    </tr>\n",
       "    <tr>\n",
       "      <th>3</th>\n",
       "      <td>4</td>\n",
       "      <td>Player 4</td>\n",
       "      <td>FPS</td>\n",
       "      <td>19</td>\n",
       "    </tr>\n",
       "    <tr>\n",
       "      <th>4</th>\n",
       "      <td>5</td>\n",
       "      <td>Player 5</td>\n",
       "      <td>FPS</td>\n",
       "      <td>3</td>\n",
       "    </tr>\n",
       "  </tbody>\n",
       "</table>\n",
       "</div>"
      ],
      "text/plain": [
       "   Match ID Player ID Adventure ID  Score\n",
       "0         1  Player 1          FPS      4\n",
       "1         2  Player 2          FPS      0\n",
       "2         3  Player 3          FPS     58\n",
       "3         4  Player 4          FPS     19\n",
       "4         5  Player 5          FPS      3"
      ]
     },
     "execution_count": 3,
     "metadata": {},
     "output_type": "execute_result"
    }
   ],
   "source": [
    "genero = pd.read_csv(\"documentos/scores_by_game_and_player.csv\")\n",
    "genero.head()"
   ]
  },
  {
   "cell_type": "code",
   "execution_count": 4,
   "metadata": {},
   "outputs": [
    {
     "name": "stdout",
     "output_type": "stream",
     "text": [
      "Se jugaron un total de 3 generos de videojuegos\n",
      "Las categorías son: ['FPS' 'ACTION' 'RPG']\n",
      "Cada uno de los 5 jugadores jugó player    adventure\n",
      "Player 1  ACTION       20\n",
      "          FPS          20\n",
      "          RPG          20\n",
      "Player 2  ACTION       20\n",
      "          FPS          20\n",
      "          RPG          20\n",
      "Player 3  ACTION       20\n",
      "          FPS          20\n",
      "          RPG          20\n",
      "Player 4  ACTION       20\n",
      "          FPS          20\n",
      "          RPG          20\n",
      "Player 5  ACTION       20\n",
      "          FPS          20\n",
      "          RPG          20\n",
      "Name: match, dtype: int64\n"
     ]
    }
   ],
   "source": [
    "genero.columns = ['match','player','adventure', 'score']\n",
    "print(\"Se jugaron un total de\", genero.adventure.nunique(), 'generos de videojuegos')\n",
    "print('Las categorías son:', str(genero.adventure.unique()))\n",
    "print('Cada uno de los', genero.player.nunique(), 'jugadores jugó', genero.groupby(['player','adventure']).match.count())"
   ]
  },
  {
   "cell_type": "code",
   "execution_count": 13,
   "metadata": {},
   "outputs": [],
   "source": [
    "promedio = (genero[genero.score > 10].groupby(['adventure','player']).score.count()/genero.groupby(['adventure','player']).score.count())\n",
    "action = promedio[0:5]\n",
    "fps = promedio[5:10]\n",
    "rpg = promedio[10:15]\n",
    "titulo = [ 'action', 'fps', 'rpg']"
   ]
  },
  {
   "cell_type": "code",
   "execution_count": 24,
   "metadata": {},
   "outputs": [],
   "source": []
  },
  {
   "cell_type": "code",
   "execution_count": 27,
   "metadata": {},
   "outputs": [
    {
     "data": {
      "image/png": "[encoded data removed]",
      "text/plain": [
       "<Figure size 864x360 with 1 Axes>"
      ]
     },
     "metadata": {},
     "output_type": "display_data"
    },
    {
     "data": {
      "image/png": "[encoded data removed]",
      "text/plain": [
       "<Figure size 864x360 with 1 Axes>"
      ]
     },
     "metadata": {},
     "output_type": "display_data"
    },
    {
     "data": {
      "image/png": "[encoded data removed]",
      "text/plain": [
       "<Figure size 864x360 with 1 Axes>"
      ]
     },
     "metadata": {},
     "output_type": "display_data"
    }
   ],
   "source": [
    "colors = plt.cm.BuPu(np.linspace(0.5, 1, len(genero.player.unique())))\n",
    "f, ax = plt.subplots(figsize=(12, 5))\n",
    "\n",
    "plt.bar(genero.player.unique(),action, 0.5, color=colors)\n",
    "plt.title(\"Action\", fontsize=20)\n",
    "plt.ylabel(\"Porcentaje\",fontsize=18)\n",
    "plt.yticks(fontsize=18)\n",
    "plt.xticks(fontsize = 18)\n",
    "    #plt.xlim(-1,20)\n",
    "ax.xaxis.grid(True)\n",
    "\n",
    "f, ax = plt.subplots(figsize=(12, 5))\n",
    "\n",
    "plt.bar(genero.player.unique(),fps, 0.5, color=colors)\n",
    "plt.title(\"FPS\", fontsize=20)\n",
    "plt.ylabel(\"Porcentaje\",fontsize=18)\n",
    "plt.yticks(fontsize=18)\n",
    "plt.xticks(fontsize = 18)\n",
    "    #plt.xlim(-1,20)\n",
    "ax.xaxis.grid(True)\n",
    "\n",
    "f, ax = plt.subplots(figsize=(12, 5))\n",
    "\n",
    "plt.bar(genero.player.unique(),rpg, 0.5, color=colors)\n",
    "plt.title(\"RPG\", fontsize=20)\n",
    "plt.ylabel(\"Porcentaje\",fontsize=18)\n",
    "plt.yticks(fontsize=18)\n",
    "plt.xticks(fontsize = 18)\n",
    "    #plt.xlim(-1,20)\n",
    "ax.xaxis.grid(True)"
   ]
  },
  {
   "cell_type": "code",
   "execution_count": null,
   "metadata": {},
   "outputs": [],
   "source": []
  },
  {
   "cell_type": "code",
   "execution_count": null,
   "metadata": {},
   "outputs": [],
   "source": []
  },
  {
   "cell_type": "code",
   "execution_count": null,
   "metadata": {},
   "outputs": [],
   "source": []
  },
  {
   "cell_type": "code",
   "execution_count": null,
   "metadata": {},
   "outputs": [],
   "source": []
  },
  {
   "cell_type": "code",
   "execution_count": 29,
   "metadata": {},
   "outputs": [
    {
     "data": {
      "text/plain": [
       "<AxesSubplot:xlabel='adventure', ylabel='score'>"
      ]
     },
     "execution_count": 29,
     "metadata": {},
     "output_type": "execute_result"
    },
    {
     "data": {
      "image/png": "[encoded data removed]",
      "text/plain": [
       "<Figure size 432x288 with 1 Axes>"
      ]
     },
     "metadata": {},
     "output_type": "display_data"
    }
   ],
   "source": [
    "sbn.barplot(x=\"adventure\", y=\"score\", data=exito, hue_order=\"player\")"
   ]
  },
  {
   "cell_type": "code",
   "execution_count": 24,
   "metadata": {},
   "outputs": [
    {
     "data": {
      "text/plain": [
       "player    adventure\n",
       "Player 1  ACTION       AxesSubplot(0.125,0.125;0.775x0.755)\n",
       "          FPS          AxesSubplot(0.125,0.125;0.775x0.755)\n",
       "          RPG          AxesSubplot(0.125,0.125;0.775x0.755)\n",
       "Player 2  ACTION       AxesSubplot(0.125,0.125;0.775x0.755)\n",
       "          FPS          AxesSubplot(0.125,0.125;0.775x0.755)\n",
       "          RPG          AxesSubplot(0.125,0.125;0.775x0.755)\n",
       "Player 3  ACTION       AxesSubplot(0.125,0.125;0.775x0.755)\n",
       "          FPS          AxesSubplot(0.125,0.125;0.775x0.755)\n",
       "          RPG          AxesSubplot(0.125,0.125;0.775x0.755)\n",
       "Player 4  ACTION       AxesSubplot(0.125,0.125;0.775x0.755)\n",
       "          FPS          AxesSubplot(0.125,0.125;0.775x0.755)\n",
       "          RPG          AxesSubplot(0.125,0.125;0.775x0.755)\n",
       "Player 5  ACTION       AxesSubplot(0.125,0.125;0.775x0.755)\n",
       "          FPS          AxesSubplot(0.125,0.125;0.775x0.755)\n",
       "          RPG          AxesSubplot(0.125,0.125;0.775x0.755)\n",
       "Name: score, dtype: object"
      ]
     },
     "execution_count": 24,
     "metadata": {},
     "output_type": "execute_result"
    },
    {
     "data": {
      "image/png": "[encoded data removed]",
      "text/plain": [
       "<Figure size 432x288 with 1 Axes>"
      ]
     },
     "metadata": {},
     "output_type": "display_data"
    }
   ],
   "source": [
    "exito.groupby(['player','adventure']).score.plot.bar()"
   ]
  },
  {
   "cell_type": "markdown",
   "metadata": {},
   "source": [
    "Para poder revisar de mejor manera estos datos se realizara un dataframe para cada uno de los jugadores y así observar mejor sus resultados."
   ]
  },
  {
   "cell_type": "code",
   "execution_count": 11,
   "metadata": {},
   "outputs": [],
   "source": [
    "player1 = genero[genero.player == 'Player 1']\n",
    "player2 = genero[genero.player == 'Player 2']\n",
    "player3 = genero[genero.player == 'Player 3']\n",
    "player4 = genero[genero.player == 'Player 4']"
   ]
  },
  {
   "cell_type": "code",
   "execution_count": 12,
   "metadata": {},
   "outputs": [
    {
     "data": {
      "text/plain": [
       "adventure\n",
       "ACTION    13.45\n",
       "FPS        3.35\n",
       "RPG        8.20\n",
       "Name: score, dtype: float64"
      ]
     },
     "execution_count": 12,
     "metadata": {},
     "output_type": "execute_result"
    }
   ],
   "source": [
    "player1.groupby('adventure').score.mean()"
   ]
  },
  {
   "cell_type": "code",
   "execution_count": 13,
   "metadata": {},
   "outputs": [
    {
     "data": {
      "text/html": [
       "<div>\n",
       "<style scoped>\n",
       "    .dataframe tbody tr th:only-of-type {\n",
       "        vertical-align: middle;\n",
       "    }\n",
       "\n",
       "    .dataframe tbody tr th {\n",
       "        vertical-align: top;\n",
       "    }\n",
       "\n",
       "    .dataframe thead th {\n",
       "        text-align: right;\n",
       "    }\n",
       "</style>\n",
       "<table border=\"1\" class=\"dataframe\">\n",
       "  <thead>\n",
       "    <tr style=\"text-align: right;\">\n",
       "      <th></th>\n",
       "      <th></th>\n",
       "      <th>count</th>\n",
       "      <th>mean</th>\n",
       "      <th>std</th>\n",
       "      <th>min</th>\n",
       "      <th>25%</th>\n",
       "      <th>50%</th>\n",
       "      <th>75%</th>\n",
       "      <th>max</th>\n",
       "    </tr>\n",
       "    <tr>\n",
       "      <th>player</th>\n",
       "      <th>adventure</th>\n",
       "      <th></th>\n",
       "      <th></th>\n",
       "      <th></th>\n",
       "      <th></th>\n",
       "      <th></th>\n",
       "      <th></th>\n",
       "      <th></th>\n",
       "      <th></th>\n",
       "    </tr>\n",
       "  </thead>\n",
       "  <tbody>\n",
       "    <tr>\n",
       "      <th rowspan=\"3\" valign=\"top\">Player 1</th>\n",
       "      <th>ACTION</th>\n",
       "      <td>20.0</td>\n",
       "      <td>13.45</td>\n",
       "      <td>32.687475</td>\n",
       "      <td>0.0</td>\n",
       "      <td>0.75</td>\n",
       "      <td>2.5</td>\n",
       "      <td>7.00</td>\n",
       "      <td>144.0</td>\n",
       "    </tr>\n",
       "    <tr>\n",
       "      <th>FPS</th>\n",
       "      <td>20.0</td>\n",
       "      <td>3.35</td>\n",
       "      <td>4.858796</td>\n",
       "      <td>0.0</td>\n",
       "      <td>0.00</td>\n",
       "      <td>1.5</td>\n",
       "      <td>4.75</td>\n",
       "      <td>19.0</td>\n",
       "    </tr>\n",
       "    <tr>\n",
       "      <th>RPG</th>\n",
       "      <td>20.0</td>\n",
       "      <td>8.20</td>\n",
       "      <td>11.546702</td>\n",
       "      <td>0.0</td>\n",
       "      <td>1.75</td>\n",
       "      <td>3.5</td>\n",
       "      <td>9.75</td>\n",
       "      <td>45.0</td>\n",
       "    </tr>\n",
       "    <tr>\n",
       "      <th rowspan=\"3\" valign=\"top\">Player 2</th>\n",
       "      <th>ACTION</th>\n",
       "      <td>20.0</td>\n",
       "      <td>8.10</td>\n",
       "      <td>15.730962</td>\n",
       "      <td>0.0</td>\n",
       "      <td>0.75</td>\n",
       "      <td>2.0</td>\n",
       "      <td>6.00</td>\n",
       "      <td>64.0</td>\n",
       "    </tr>\n",
       "    <tr>\n",
       "      <th>FPS</th>\n",
       "      <td>20.0</td>\n",
       "      <td>3.40</td>\n",
       "      <td>4.672428</td>\n",
       "      <td>0.0</td>\n",
       "      <td>0.00</td>\n",
       "      <td>2.0</td>\n",
       "      <td>3.00</td>\n",
       "      <td>16.0</td>\n",
       "    </tr>\n",
       "    <tr>\n",
       "      <th>RPG</th>\n",
       "      <td>20.0</td>\n",
       "      <td>11.15</td>\n",
       "      <td>22.866374</td>\n",
       "      <td>0.0</td>\n",
       "      <td>1.75</td>\n",
       "      <td>3.0</td>\n",
       "      <td>11.50</td>\n",
       "      <td>103.0</td>\n",
       "    </tr>\n",
       "    <tr>\n",
       "      <th rowspan=\"3\" valign=\"top\">Player 3</th>\n",
       "      <th>ACTION</th>\n",
       "      <td>20.0</td>\n",
       "      <td>5.85</td>\n",
       "      <td>7.569155</td>\n",
       "      <td>0.0</td>\n",
       "      <td>1.00</td>\n",
       "      <td>3.5</td>\n",
       "      <td>6.75</td>\n",
       "      <td>33.0</td>\n",
       "    </tr>\n",
       "    <tr>\n",
       "      <th>FPS</th>\n",
       "      <td>20.0</td>\n",
       "      <td>9.65</td>\n",
       "      <td>13.989752</td>\n",
       "      <td>0.0</td>\n",
       "      <td>0.75</td>\n",
       "      <td>3.5</td>\n",
       "      <td>15.75</td>\n",
       "      <td>58.0</td>\n",
       "    </tr>\n",
       "    <tr>\n",
       "      <th>RPG</th>\n",
       "      <td>20.0</td>\n",
       "      <td>6.15</td>\n",
       "      <td>8.591765</td>\n",
       "      <td>0.0</td>\n",
       "      <td>0.75</td>\n",
       "      <td>4.5</td>\n",
       "      <td>7.25</td>\n",
       "      <td>37.0</td>\n",
       "    </tr>\n",
       "    <tr>\n",
       "      <th rowspan=\"3\" valign=\"top\">Player 4</th>\n",
       "      <th>ACTION</th>\n",
       "      <td>20.0</td>\n",
       "      <td>22.65</td>\n",
       "      <td>82.408019</td>\n",
       "      <td>0.0</td>\n",
       "      <td>2.00</td>\n",
       "      <td>2.0</td>\n",
       "      <td>6.25</td>\n",
       "      <td>372.0</td>\n",
       "    </tr>\n",
       "    <tr>\n",
       "      <th>FPS</th>\n",
       "      <td>20.0</td>\n",
       "      <td>6.80</td>\n",
       "      <td>11.932265</td>\n",
       "      <td>0.0</td>\n",
       "      <td>0.00</td>\n",
       "      <td>2.0</td>\n",
       "      <td>5.50</td>\n",
       "      <td>42.0</td>\n",
       "    </tr>\n",
       "    <tr>\n",
       "      <th>RPG</th>\n",
       "      <td>20.0</td>\n",
       "      <td>6.05</td>\n",
       "      <td>7.708335</td>\n",
       "      <td>0.0</td>\n",
       "      <td>1.00</td>\n",
       "      <td>2.5</td>\n",
       "      <td>9.50</td>\n",
       "      <td>30.0</td>\n",
       "    </tr>\n",
       "    <tr>\n",
       "      <th rowspan=\"3\" valign=\"top\">Player 5</th>\n",
       "      <th>ACTION</th>\n",
       "      <td>20.0</td>\n",
       "      <td>4.35</td>\n",
       "      <td>3.587625</td>\n",
       "      <td>0.0</td>\n",
       "      <td>2.00</td>\n",
       "      <td>3.5</td>\n",
       "      <td>5.25</td>\n",
       "      <td>16.0</td>\n",
       "    </tr>\n",
       "    <tr>\n",
       "      <th>FPS</th>\n",
       "      <td>20.0</td>\n",
       "      <td>6.40</td>\n",
       "      <td>8.610887</td>\n",
       "      <td>0.0</td>\n",
       "      <td>2.00</td>\n",
       "      <td>4.0</td>\n",
       "      <td>6.25</td>\n",
       "      <td>33.0</td>\n",
       "    </tr>\n",
       "    <tr>\n",
       "      <th>RPG</th>\n",
       "      <td>20.0</td>\n",
       "      <td>6.15</td>\n",
       "      <td>7.154498</td>\n",
       "      <td>0.0</td>\n",
       "      <td>1.75</td>\n",
       "      <td>3.0</td>\n",
       "      <td>8.25</td>\n",
       "      <td>25.0</td>\n",
       "    </tr>\n",
       "  </tbody>\n",
       "</table>\n",
       "</div>"
      ],
      "text/plain": [
       "                    count   mean        std  min   25%  50%    75%    max\n",
       "player   adventure                                                       \n",
       "Player 1 ACTION      20.0  13.45  32.687475  0.0  0.75  2.5   7.00  144.0\n",
       "         FPS         20.0   3.35   4.858796  0.0  0.00  1.5   4.75   19.0\n",
       "         RPG         20.0   8.20  11.546702  0.0  1.75  3.5   9.75   45.0\n",
       "Player 2 ACTION      20.0   8.10  15.730962  0.0  0.75  2.0   6.00   64.0\n",
       "         FPS         20.0   3.40   4.672428  0.0  0.00  2.0   3.00   16.0\n",
       "         RPG         20.0  11.15  22.866374  0.0  1.75  3.0  11.50  103.0\n",
       "Player 3 ACTION      20.0   5.85   7.569155  0.0  1.00  3.5   6.75   33.0\n",
       "         FPS         20.0   9.65  13.989752  0.0  0.75  3.5  15.75   58.0\n",
       "         RPG         20.0   6.15   8.591765  0.0  0.75  4.5   7.25   37.0\n",
       "Player 4 ACTION      20.0  22.65  82.408019  0.0  2.00  2.0   6.25  372.0\n",
       "         FPS         20.0   6.80  11.932265  0.0  0.00  2.0   5.50   42.0\n",
       "         RPG         20.0   6.05   7.708335  0.0  1.00  2.5   9.50   30.0\n",
       "Player 5 ACTION      20.0   4.35   3.587625  0.0  2.00  3.5   5.25   16.0\n",
       "         FPS         20.0   6.40   8.610887  0.0  2.00  4.0   6.25   33.0\n",
       "         RPG         20.0   6.15   7.154498  0.0  1.75  3.0   8.25   25.0"
      ]
     },
     "execution_count": 13,
     "metadata": {},
     "output_type": "execute_result"
    }
   ],
   "source": [
    "genero.groupby(['player','adventure']).score.describe()"
   ]
  },
  {
   "cell_type": "code",
   "execution_count": null,
   "metadata": {},
   "outputs": [],
   "source": []
  },
  {
   "cell_type": "code",
   "execution_count": null,
   "metadata": {},
   "outputs": [],
   "source": []
  },
  {
   "cell_type": "code",
   "execution_count": null,
   "metadata": {},
   "outputs": [],
   "source": []
  },
  {
   "cell_type": "code",
   "execution_count": null,
   "metadata": {},
   "outputs": [],
   "source": []
  }
 ],
 "metadata": {
  "kernelspec": {
   "display_name": "Python 3",
   "language": "python",
   "name": "python3"
  },
  "language_info": {
   "codemirror_mode": {
    "name": "ipython",
    "version": 3
   },
   "file_extension": ".py",
   "mimetype": "text/x-python",
   "name": "python",
   "nbconvert_exporter": "python",
   "pygments_lexer": "ipython3",
   "version": "3.7.10"
  }
 },
 "nbformat": 4,
 "nbformat_minor": 4
}
